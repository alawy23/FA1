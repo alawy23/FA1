{
 "cells": [
  {
   "cell_type": "markdown",
   "id": "e9c87d4a",
   "metadata": {},
   "source": [
    "# Data Science Tools and Ecosystems"
   ]
  },
  {
   "cell_type": "markdown",
   "id": "ebc9b5d1",
   "metadata": {},
   "source": [
    "## Author\n",
    "Ali Al Alshaikh"
   ]
  },
  {
   "cell_type": "markdown",
   "id": "12b13742",
   "metadata": {},
   "source": [
    "In this notebook, Data Science Tools and Ecosystem are summarized."
   ]
  },
  {
   "cell_type": "markdown",
   "id": "c22a9cb1",
   "metadata": {},
   "source": [
    "**Objectives:**\n",
    "- List popular languages for Data Science.\n",
    "- Identify commonly used libraries in Data Science.\n",
    "- Explore open-source tools used in the Data Science ecosystem.\n",
    "- Perform arithmetic operations in Python."
   ]
  },
  {
   "cell_type": "markdown",
   "id": "bf96b312",
   "metadata": {},
   "source": [
    "Some of the popular languages that Data Scientists use are:\n",
    "1. Python\n",
    "2. R\n",
    "3. Julia"
   ]
  },
  {
   "cell_type": "markdown",
   "id": "c3ee5772",
   "metadata": {},
   "source": [
    "Some of the commonly used libraries used by Data Scientists include:\n",
    "1. Numpy\n",
    "2. Matplotlib\n",
    "3. Pandas\n",
    "4. ggplot\n",
    "5. TensorFlow"
   ]
  },
  {
   "cell_type": "markdown",
   "id": "dc48cb95",
   "metadata": {},
   "source": [
    "|Data Science Tools|\n",
    "|--------|\n",
    "|Jupyter Notebook|\n",
    "|Apache Hadoop|\n",
    "|Apache Spark|"
   ]
  },
  {
   "cell_type": "markdown",
   "id": "7ee7686b",
   "metadata": {},
   "source": [
    "### Below are a few examples of evaluating arithmetic expressions in Python."
   ]
  },
  {
   "cell_type": "code",
   "execution_count": 11,
   "id": "3f336ea5",
   "metadata": {},
   "outputs": [
    {
     "data": {
      "text/plain": [
       "17"
      ]
     },
     "execution_count": 11,
     "metadata": {},
     "output_type": "execute_result"
    }
   ],
   "source": [
    "# This a simple arithmetic expression to mutiply then add integers\n",
    "(3*4)+5"
   ]
  },
  {
   "cell_type": "code",
   "execution_count": 12,
   "id": "f5fdd50b",
   "metadata": {},
   "outputs": [
    {
     "data": {
      "text/plain": [
       "3.3333333333333335"
      ]
     },
     "execution_count": 12,
     "metadata": {},
     "output_type": "execute_result"
    }
   ],
   "source": [
    "# This will convert 200 minutes to hours by diving by 60\n",
    "200/60"
   ]
  }
 ],
 "metadata": {
  "kernelspec": {
   "display_name": "base",
   "language": "python",
   "name": "python3"
  },
  "language_info": {
   "codemirror_mode": {
    "name": "ipython",
    "version": 3
   },
   "file_extension": ".py",
   "mimetype": "text/x-python",
   "name": "python",
   "nbconvert_exporter": "python",
   "pygments_lexer": "ipython3",
   "version": "3.7.6"
  }
 },
 "nbformat": 4,
 "nbformat_minor": 5
}
